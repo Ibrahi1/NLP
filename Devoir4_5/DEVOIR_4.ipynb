{
  "cells": [
    {
      "cell_type": "markdown",
      "metadata": {
        "id": "caZvVDsdj8LX"
      },
      "source": [
        "# DEVOIR 4 : PRATIQUER L’ANALYSE SYNTAXIQUE"
      ]
    },
    {
      "cell_type": "code",
      "execution_count": null,
      "metadata": {
        "colab": {
          "base_uri": "https://localhost:8080/"
        },
        "id": "MCvIIFuQAWqT",
        "outputId": "8d0bb2ab-1bb2-4407-c536-6dc085cc5f58"
      },
      "outputs": [
        {
          "name": "stdout",
          "output_type": "stream",
          "text": [
            "Requirement already satisfied: spacy in /usr/local/lib/python3.11/dist-packages (3.8.5)\n",
            "Requirement already satisfied: spacy-legacy<3.1.0,>=3.0.11 in /usr/local/lib/python3.11/dist-packages (from spacy) (3.0.12)\n",
            "Requirement already satisfied: spacy-loggers<2.0.0,>=1.0.0 in /usr/local/lib/python3.11/dist-packages (from spacy) (1.0.5)\n",
            "Requirement already satisfied: murmurhash<1.1.0,>=0.28.0 in /usr/local/lib/python3.11/dist-packages (from spacy) (1.0.12)\n",
            "Requirement already satisfied: cymem<2.1.0,>=2.0.2 in /usr/local/lib/python3.11/dist-packages (from spacy) (2.0.11)\n",
            "Requirement already satisfied: preshed<3.1.0,>=3.0.2 in /usr/local/lib/python3.11/dist-packages (from spacy) (3.0.9)\n",
            "Requirement already satisfied: thinc<8.4.0,>=8.3.4 in /usr/local/lib/python3.11/dist-packages (from spacy) (8.3.6)\n",
            "Requirement already satisfied: wasabi<1.2.0,>=0.9.1 in /usr/local/lib/python3.11/dist-packages (from spacy) (1.1.3)\n",
            "Requirement already satisfied: srsly<3.0.0,>=2.4.3 in /usr/local/lib/python3.11/dist-packages (from spacy) (2.5.1)\n",
            "Requirement already satisfied: catalogue<2.1.0,>=2.0.6 in /usr/local/lib/python3.11/dist-packages (from spacy) (2.0.10)\n",
            "Requirement already satisfied: weasel<0.5.0,>=0.1.0 in /usr/local/lib/python3.11/dist-packages (from spacy) (0.4.1)\n",
            "Requirement already satisfied: typer<1.0.0,>=0.3.0 in /usr/local/lib/python3.11/dist-packages (from spacy) (0.15.3)\n",
            "Requirement already satisfied: tqdm<5.0.0,>=4.38.0 in /usr/local/lib/python3.11/dist-packages (from spacy) (4.67.1)\n",
            "Requirement already satisfied: numpy>=1.19.0 in /usr/local/lib/python3.11/dist-packages (from spacy) (2.0.2)\n",
            "Requirement already satisfied: requests<3.0.0,>=2.13.0 in /usr/local/lib/python3.11/dist-packages (from spacy) (2.32.3)\n",
            "Requirement already satisfied: pydantic!=1.8,!=1.8.1,<3.0.0,>=1.7.4 in /usr/local/lib/python3.11/dist-packages (from spacy) (2.11.4)\n",
            "Requirement already satisfied: jinja2 in /usr/local/lib/python3.11/dist-packages (from spacy) (3.1.6)\n",
            "Requirement already satisfied: setuptools in /usr/local/lib/python3.11/dist-packages (from spacy) (75.2.0)\n",
            "Requirement already satisfied: packaging>=20.0 in /usr/local/lib/python3.11/dist-packages (from spacy) (24.2)\n",
            "Requirement already satisfied: langcodes<4.0.0,>=3.2.0 in /usr/local/lib/python3.11/dist-packages (from spacy) (3.5.0)\n",
            "Requirement already satisfied: language-data>=1.2 in /usr/local/lib/python3.11/dist-packages (from langcodes<4.0.0,>=3.2.0->spacy) (1.3.0)\n",
            "Requirement already satisfied: annotated-types>=0.6.0 in /usr/local/lib/python3.11/dist-packages (from pydantic!=1.8,!=1.8.1,<3.0.0,>=1.7.4->spacy) (0.7.0)\n",
            "Requirement already satisfied: pydantic-core==2.33.2 in /usr/local/lib/python3.11/dist-packages (from pydantic!=1.8,!=1.8.1,<3.0.0,>=1.7.4->spacy) (2.33.2)\n",
            "Requirement already satisfied: typing-extensions>=4.12.2 in /usr/local/lib/python3.11/dist-packages (from pydantic!=1.8,!=1.8.1,<3.0.0,>=1.7.4->spacy) (4.13.2)\n",
            "Requirement already satisfied: typing-inspection>=0.4.0 in /usr/local/lib/python3.11/dist-packages (from pydantic!=1.8,!=1.8.1,<3.0.0,>=1.7.4->spacy) (0.4.0)\n",
            "Requirement already satisfied: charset-normalizer<4,>=2 in /usr/local/lib/python3.11/dist-packages (from requests<3.0.0,>=2.13.0->spacy) (3.4.2)\n",
            "Requirement already satisfied: idna<4,>=2.5 in /usr/local/lib/python3.11/dist-packages (from requests<3.0.0,>=2.13.0->spacy) (3.10)\n",
            "Requirement already satisfied: urllib3<3,>=1.21.1 in /usr/local/lib/python3.11/dist-packages (from requests<3.0.0,>=2.13.0->spacy) (2.4.0)\n",
            "Requirement already satisfied: certifi>=2017.4.17 in /usr/local/lib/python3.11/dist-packages (from requests<3.0.0,>=2.13.0->spacy) (2025.4.26)\n",
            "Requirement already satisfied: blis<1.4.0,>=1.3.0 in /usr/local/lib/python3.11/dist-packages (from thinc<8.4.0,>=8.3.4->spacy) (1.3.0)\n",
            "Requirement already satisfied: confection<1.0.0,>=0.0.1 in /usr/local/lib/python3.11/dist-packages (from thinc<8.4.0,>=8.3.4->spacy) (0.1.5)\n",
            "Requirement already satisfied: click>=8.0.0 in /usr/local/lib/python3.11/dist-packages (from typer<1.0.0,>=0.3.0->spacy) (8.2.0)\n",
            "Requirement already satisfied: shellingham>=1.3.0 in /usr/local/lib/python3.11/dist-packages (from typer<1.0.0,>=0.3.0->spacy) (1.5.4)\n",
            "Requirement already satisfied: rich>=10.11.0 in /usr/local/lib/python3.11/dist-packages (from typer<1.0.0,>=0.3.0->spacy) (13.9.4)\n",
            "Requirement already satisfied: cloudpathlib<1.0.0,>=0.7.0 in /usr/local/lib/python3.11/dist-packages (from weasel<0.5.0,>=0.1.0->spacy) (0.21.0)\n",
            "Requirement already satisfied: smart-open<8.0.0,>=5.2.1 in /usr/local/lib/python3.11/dist-packages (from weasel<0.5.0,>=0.1.0->spacy) (7.1.0)\n",
            "Requirement already satisfied: MarkupSafe>=2.0 in /usr/local/lib/python3.11/dist-packages (from jinja2->spacy) (3.0.2)\n",
            "Requirement already satisfied: marisa-trie>=1.1.0 in /usr/local/lib/python3.11/dist-packages (from language-data>=1.2->langcodes<4.0.0,>=3.2.0->spacy) (1.2.1)\n",
            "Requirement already satisfied: markdown-it-py>=2.2.0 in /usr/local/lib/python3.11/dist-packages (from rich>=10.11.0->typer<1.0.0,>=0.3.0->spacy) (3.0.0)\n",
            "Requirement already satisfied: pygments<3.0.0,>=2.13.0 in /usr/local/lib/python3.11/dist-packages (from rich>=10.11.0->typer<1.0.0,>=0.3.0->spacy) (2.19.1)\n",
            "Requirement already satisfied: wrapt in /usr/local/lib/python3.11/dist-packages (from smart-open<8.0.0,>=5.2.1->weasel<0.5.0,>=0.1.0->spacy) (1.17.2)\n",
            "Requirement already satisfied: mdurl~=0.1 in /usr/local/lib/python3.11/dist-packages (from markdown-it-py>=2.2.0->rich>=10.11.0->typer<1.0.0,>=0.3.0->spacy) (0.1.2)\n",
            "Collecting fr-core-news-sm==3.8.0\n",
            "  Downloading https://github.com/explosion/spacy-models/releases/download/fr_core_news_sm-3.8.0/fr_core_news_sm-3.8.0-py3-none-any.whl (16.3 MB)\n",
            "\u001b[2K     \u001b[90m━━━━━━━━━━━━━━━━━━━━━━━━━━━━━━━━━━━━━━━━\u001b[0m \u001b[32m16.3/16.3 MB\u001b[0m \u001b[31m64.4 MB/s\u001b[0m eta \u001b[36m0:00:00\u001b[0m\n",
            "\u001b[?25hInstalling collected packages: fr-core-news-sm\n",
            "Successfully installed fr-core-news-sm-3.8.0\n",
            "\u001b[38;5;2m✔ Download and installation successful\u001b[0m\n",
            "You can now load the package via spacy.load('fr_core_news_sm')\n",
            "\u001b[38;5;3m⚠ Restart to reload dependencies\u001b[0m\n",
            "If you are in a Jupyter or Colab notebook, you may need to restart Python in\n",
            "order to load all the package's dependencies. You can do this by selecting the\n",
            "'Restart kernel' or 'Restart runtime' option.\n"
          ]
        }
      ],
      "source": [
        "# !pip install spacy\n",
        "# !python -m spacy download fr_core_news_sm # Un petit Modèle français"
      ]
    },
    {
      "cell_type": "markdown",
      "metadata": {
        "id": "IqWzNLn6CE3b"
      },
      "source": [
        "1. Chargement du texte avec spaCy"
      ]
    },
    {
      "cell_type": "code",
      "execution_count": 2,
      "metadata": {
        "id": "oIho-UB_CAJT"
      },
      "outputs": [],
      "source": [
        "import spacy\n",
        "\n",
        "# Chargement du modèle français\n",
        "nlp = spacy.load(\"fr_core_news_sm\")\n",
        "\n",
        "texte = \"Le médecin prescrit des antibiotiques au patient fiévreux après le diagnostic.\"\n",
        "doc = nlp(texte)"
      ]
    },
    {
      "cell_type": "markdown",
      "metadata": {
        "id": "1qjvSBgTCPoL"
      },
      "source": [
        "2. Affichage des POS et dépendances"
      ]
    },
    {
      "cell_type": "code",
      "execution_count": 3,
      "metadata": {
        "colab": {
          "base_uri": "https://localhost:8080/"
        },
        "id": "6AypvXNbCTQz",
        "outputId": "279f4774-5feb-4b1e-eaac-a356bbfedfd7"
      },
      "outputs": [
        {
          "name": "stdout",
          "output_type": "stream",
          "text": [
            "Mot: Le              POS: DET        Dépendance: det             Head: médecin\n",
            "Mot: médecin         POS: NOUN       Dépendance: nsubj           Head: prescrit\n",
            "Mot: prescrit        POS: ADJ        Dépendance: ROOT            Head: prescrit\n",
            "Mot: des             POS: ADP        Dépendance: case            Head: antibiotiques\n",
            "Mot: antibiotiques   POS: NOUN       Dépendance: obl:arg         Head: prescrit\n",
            "Mot: au              POS: ADP        Dépendance: case            Head: patient\n",
            "Mot: patient         POS: NOUN       Dépendance: obl:mod         Head: prescrit\n",
            "Mot: fiévreux        POS: ADJ        Dépendance: acl             Head: patient\n",
            "Mot: après           POS: ADP        Dépendance: case            Head: diagnostic\n",
            "Mot: le              POS: DET        Dépendance: det             Head: diagnostic\n",
            "Mot: diagnostic      POS: NOUN       Dépendance: nmod            Head: patient\n",
            "Mot: .               POS: PUNCT      Dépendance: punct           Head: prescrit\n"
          ]
        }
      ],
      "source": [
        "for token in doc:\n",
        "    print(f\"Mot: {token.text:<15} POS: {token.pos_:<10} Dépendance: {token.dep_:<15} Head: {token.head.text}\")"
      ]
    },
    {
      "cell_type": "markdown",
      "metadata": {
        "id": "JOIMwVYFCWRz"
      },
      "source": [
        "3. Extraction des éléments syntaxiques \\\n",
        "    a. Verbe principal : \"prescrit\" (token racine/ROOT)\n",
        "\n",
        "    b. Sujet : \"médecin\" (dépendance nsubj)\n",
        "\n",
        "    c. Objet direct : \"antibiotiques\" (dépendance obj)\n",
        "\n",
        "    d. Compléments circonstanciels :\n",
        "\n",
        "    \"au patient fiévreux\" (complément d'objet indirect)\n",
        "\n",
        "    \"après le diagnostic\" (complément circonstanciel de temps)"
      ]
    },
    {
      "cell_type": "markdown",
      "metadata": {
        "id": "qFMx2cLFDJkk"
      },
      "source": [
        "4. Extraction des relations \"qui fait quoi\""
      ]
    },
    {
      "cell_type": "code",
      "execution_count": 6,
      "metadata": {
        "id": "xs-jde5LDOgj"
      },
      "outputs": [],
      "source": [
        "for token in doc:\n",
        "    if token.dep_ == \"nsubj\" and token.head.pos_ == \"VERB\":\n",
        "        sujet = token.text\n",
        "        verbe = token.head.text\n",
        "        objets = [child.text for child in token.head.children if child.dep_ == \"obj\"]\n",
        "        print(f\"Sujet: {sujet}, Verbe: {verbe}, Objet(s): {', '.join(objets)}\")"
      ]
    },
    {
      "cell_type": "markdown",
      "metadata": {
        "id": "qIQqpPpzDVmT"
      },
      "source": [
        "5. Test avec l'anglais"
      ]
    },
    {
      "cell_type": "code",
      "execution_count": 5,
      "metadata": {
        "colab": {
          "base_uri": "https://localhost:8080/"
        },
        "id": "113DWHgBDZGc",
        "outputId": "5436bc90-fe95-41bb-9bdd-fba5907a8536"
      },
      "outputs": [
        {
          "name": "stdout",
          "output_type": "stream",
          "text": [
            "Word: The             POS: DET        Dependency: det             Head: doctor\n",
            "Word: doctor          POS: NOUN       Dependency: nsubj           Head: prescribes\n",
            "Word: prescribes      POS: VERB       Dependency: ROOT            Head: prescribes\n",
            "Word: antibiotics     POS: NOUN       Dependency: dobj            Head: prescribes\n",
            "Word: to              POS: ADP        Dependency: prep            Head: prescribes\n",
            "Word: the             POS: DET        Dependency: det             Head: patient\n",
            "Word: feverish        POS: ADJ        Dependency: amod            Head: patient\n",
            "Word: patient         POS: NOUN       Dependency: pobj            Head: to\n",
            "Word: after           POS: ADP        Dependency: prep            Head: prescribes\n",
            "Word: the             POS: DET        Dependency: det             Head: diagnosis\n",
            "Word: diagnosis       POS: NOUN       Dependency: pobj            Head: after\n",
            "Word: .               POS: PUNCT      Dependency: punct           Head: prescribes\n"
          ]
        }
      ],
      "source": [
        "# Chargement du modèle anglais\n",
        "nlp_en = spacy.load(\"en_core_web_sm\")\n",
        "\n",
        "text_en = \"The doctor prescribes antibiotics to the feverish patient after the diagnosis.\"\n",
        "doc_en = nlp_en(text_en)\n",
        "\n",
        "# Affichage des POS et dépendances\n",
        "for token in doc_en:\n",
        "    print(f\"Word: {token.text:<15} POS: {token.pos_:<10} Dependency: {token.dep_:<15} Head: {token.head.text}\")"
      ]
    }
  ],
  "metadata": {
    "colab": {
      "provenance": [],
      "toc_visible": true
    },
    "kernelspec": {
      "display_name": "Python 3",
      "name": "python3"
    },
    "language_info": {
      "name": "python"
    }
  },
  "nbformat": 4,
  "nbformat_minor": 0
}
