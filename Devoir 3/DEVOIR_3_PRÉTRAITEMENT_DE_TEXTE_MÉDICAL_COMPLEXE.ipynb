{
  "nbformat": 4,
  "nbformat_minor": 0,
  "metadata": {
    "colab": {
      "provenance": []
    },
    "kernelspec": {
      "name": "python3",
      "display_name": "Python 3"
    },
    "language_info": {
      "name": "python"
    }
  },
  "cells": [
    {
      "cell_type": "markdown",
      "source": [
        "*** Contexte : ***\n",
        "Vous travaillez pour une startup en e-santé qui doit analyser des milliers de comptes-rendus\n",
        "hospitaliers.\n",
        "Ces documents contiennent un mélange de:\n",
        "  1. Terminologie médicale spécialisée\n",
        "  2. Abréviations courantes (ex: \"BID\", \"TDM\")\n",
        "  3. Erreurs de transcription (ex: \"hyp0glycémie\")\n",
        "  4. Notes manuscrites numérisées (ex: \"pat. ++fébrile\")"
      ],
      "metadata": {
        "id": "-ebit_rDME_x"
      }
    },
    {
      "cell_type": "code",
      "source": [
        "import re\n",
        "import nltk\n",
        "from nltk.tokenize import word_tokenize, sent_tokenize\n",
        "from nltk.corpus import stopwords\n",
        "import string\n",
        "\n",
        "# Télécharger les ressources nécessaires de NLTK\n",
        "nltk.download('punkt')\n",
        "nltk.download('stopwords')\n",
        "nltk.download('punkt_tab')"
      ],
      "metadata": {
        "id": "pMqg5nNRPG6_",
        "colab": {
          "base_uri": "https://localhost:8080/"
        },
        "outputId": "5515be5e-1521-4939-9ed1-a0965cedd14f"
      },
      "execution_count": 41,
      "outputs": [
        {
          "output_type": "stream",
          "name": "stderr",
          "text": [
            "[nltk_data] Downloading package punkt to /root/nltk_data...\n",
            "[nltk_data]   Package punkt is already up-to-date!\n",
            "[nltk_data] Downloading package stopwords to /root/nltk_data...\n",
            "[nltk_data]   Package stopwords is already up-to-date!\n",
            "[nltk_data] Downloading package punkt_tab to /root/nltk_data...\n",
            "[nltk_data]   Package punkt_tab is already up-to-date!\n"
          ]
        },
        {
          "output_type": "execute_result",
          "data": {
            "text/plain": [
              "True"
            ]
          },
          "metadata": {},
          "execution_count": 41
        }
      ]
    },
    {
      "cell_type": "markdown",
      "source": [
        "### Exercice 1: Nettoyage"
      ],
      "metadata": {
        "id": "R_bTW8fCNTlD"
      }
    },
    {
      "cell_type": "code",
      "source": [
        "def nettoyage(texte):\n",
        "  # Convertir en minuscules\n",
        "  texte = texte.lower()\n",
        "\n",
        "  # Supprimer les dates (formats comme 12/11/23 ou 01-01-2024)\n",
        "  texte = re.sub(r'\\b\\d{1,2}[/-]\\d{1,2}[/-]\\d{2,4}\\b', '', texte)\n",
        "\n",
        "  # Supprimer les valeurs numériques avec unités (ex: 125mg/L, 37 °c)\n",
        "  texte = re.sub(r'\\b\\d+(?:\\.\\d+)?\\s?[a-zA-Z°/%]+(?:/[a-zA-Z°%]+)?\\b', '', texte)\n",
        "\n",
        "  # Supprimer les caractères spéciaux spécifiques\n",
        "  texte = re.sub(r'[°#]', '', texte)\n",
        "\n",
        "  # Supprimer la ponctuation standard\n",
        "  texte = texte.translate(str.maketrans('', '', string.punctuation))\n",
        "\n",
        "  # Normaliser les abréviations et fautes courantes\n",
        "  remplacements = {\n",
        "      r'\\bttt\\b': 'traitement',\n",
        "      r'\\bpat\\b\\.?': 'patient',\n",
        "  }\n",
        "\n",
        "  for pattern, remplacement in remplacements.items():\n",
        "      texte = re.sub(pattern, remplacement, texte)\n",
        "\n",
        "  # Supprimer les chiffres isolés restants\n",
        "  texte = re.sub(r'\\d+', '', texte)\n",
        "\n",
        "  # Supprimer les espaces multiples et les sauts de ligne\n",
        "  texte = re.sub(r'\\s+', ' ', texte).strip()\n",
        "\n",
        "  return texte"
      ],
      "metadata": {
        "id": "KXZEqHexNghg"
      },
      "execution_count": 42,
      "outputs": []
    },
    {
      "cell_type": "markdown",
      "source": [
        "### Exercice 2: Tokenisation Médicale"
      ],
      "metadata": {
        "id": "x6Rv0griRcI2"
      }
    },
    {
      "cell_type": "code",
      "source": [
        "# Dictionnaire des abréviations médicales\n",
        "abreviations = {\n",
        "    \"bid\": \"bis in die\",\n",
        "    \"iv\": \"intraveineuse\",\n",
        "    \"ttt\": \"traitement\",\n",
        "    \"crp\": \"protéine c réactive\",\n",
        "    \"tdm\": \"tomodensitométrie\"\n",
        "}\n",
        "\n",
        "def tokeniser(texte):\n",
        "    # Tokenisation spéciale pour les termes médicaux composés et les doses\n",
        "    tokens = []\n",
        "\n",
        "    # D'abord, on sépare les tokens avec les règles spéciales\n",
        "    for token in word_tokenize(texte.lower()):\n",
        "        # 1. Traitement des abréviations\n",
        "        if token in abreviations:\n",
        "            tokens.append(abreviations[token])\n",
        "            continue\n",
        "\n",
        "        # Keep COVID-19 (with hyphen)\n",
        "        elif '-' in token and not token.startswith(('++', '--')):\n",
        "            tokens.append(token)\n",
        "\n",
        "        # Split doses (500mg/J → 500, mg, /, J)\n",
        "        elif re.match(r'\\d+[a-z]+(/[a-z]+)?', token, re.IGNORECASE):\n",
        "            num = re.match(r'\\d+', token).group()\n",
        "            unit = token[len(num):]\n",
        "            tokens.extend([num] + re.split(r'([/])', unit))\n",
        "        else:\n",
        "            tokens.append(token)\n",
        "\n",
        "    return tokens"
      ],
      "metadata": {
        "id": "qsFd5WcPPpJc"
      },
      "execution_count": 43,
      "outputs": []
    },
    {
      "cell_type": "markdown",
      "source": [
        "### Exercice 3: Normalisation Expert"
      ],
      "metadata": {
        "id": "IanCIsD99S8B"
      }
    },
    {
      "cell_type": "code",
      "source": [
        "termes_medicaux = {\n",
        "    \"corticoides\": \"glucocorticoides\",\n",
        "    \"fébrile\": \"hyperthermique\",\n",
        "    \"++fébrile\": \"hyperthermique\",\n",
        "    \"azithromycine\": \"antibiotique macrolide\"\n",
        "}\n",
        "\n",
        "corrections_ortho = {\n",
        "    \"hyp0glycémie\": \"hypoglycémie\",\n",
        "    \"hyponatrémie\": \"hyponatrémie\",\n",
        "    \"hyp0natrémie\": \"hyponatrémie\",\n",
        "    \"fèbrile\": \"fébrile\",\n",
        "    \"corticoïdes\": \"glucocorticoides\",\n",
        "    \"corticoides\": \"glucocorticoides\"\n",
        "}\n",
        "\n",
        "def normaliser(tokens):\n",
        "    tokens_normalises = []\n",
        "\n",
        "    for token in tokens:\n",
        "        # 1. Correction orthographique d'abord\n",
        "        token_corrige = corrections_ortho.get(token.lower(), token)\n",
        "\n",
        "        # Correction générique des chiffres dans les mots (0 → o)\n",
        "        if '0' in token_corrige:\n",
        "            token_corrige = token_corrige.replace('0', 'o')\n",
        "\n",
        "        # 2. Normalisation des termes médicaux\n",
        "        if token_corrige in termes_medicaux:\n",
        "            token_corrige = termes_medicaux[token_corrige]\n",
        "\n",
        "        # 3. Normalisation des expressions avec ++\n",
        "        elif token_corrige.startswith('++'):\n",
        "            base = token_corrige[2:]\n",
        "            if base in termes_medicaux:\n",
        "                token_corrige = termes_medicaux[base]\n",
        "            else:\n",
        "                token_corrige = \"hyper\" + base\n",
        "\n",
        "        tokens_normalises.append(token_corrige)\n",
        "\n",
        "    return tokens_normalises"
      ],
      "metadata": {
        "id": "c3elaIWC9SXB"
      },
      "execution_count": 44,
      "outputs": []
    },
    {
      "cell_type": "markdown",
      "source": [
        "### Fonction pour tester le pipeline complet"
      ],
      "metadata": {
        "id": "Op1ZxrYP9hRw"
      }
    },
    {
      "cell_type": "code",
      "source": [
        "# Fonction pour tester le pipeline complet\n",
        "def teste_function(texte):\n",
        "    texte_nettoye = nettoyage(texte)\n",
        "    tokens = tokeniser(texte_nettoye)\n",
        "    tokens_normalises = normaliser(tokens)\n",
        "\n",
        "    # Supprimer les stopwords\n",
        "    stop_words = set(stopwords.words('french'))\n",
        "    tokens_filtres = [token for token in tokens_normalises if token not in stop_words]\n",
        "\n",
        "    return tokens_filtres"
      ],
      "metadata": {
        "id": "ZRDXZuQp72bh"
      },
      "execution_count": 48,
      "outputs": []
    },
    {
      "cell_type": "markdown",
      "source": [
        "### Test"
      ],
      "metadata": {
        "id": "NEdNKCbP-FEJ"
      }
    },
    {
      "cell_type": "code",
      "source": [
        "texte_medical = \"\"\"\n",
        "  Pat. 45ans admis le 12/03/25 pour COVID-19 sévère.\n",
        "  CRP: 125mg/L (N<5) - Fièvre à 39.2°C.\n",
        "  Ttt par corticoïdes IV + azithromycine 500mg/J.\n",
        "  #Attention: allergie à la pénicilline!\n",
        "  \"\"\"\n",
        "\n",
        "print(texte_medical)"
      ],
      "metadata": {
        "colab": {
          "base_uri": "https://localhost:8080/"
        },
        "id": "8M0MIujiCEN4",
        "outputId": "ab126f5a-16ad-4518-b443-2eb45866b97a"
      },
      "execution_count": 49,
      "outputs": [
        {
          "output_type": "stream",
          "name": "stdout",
          "text": [
            "\n",
            "  Pat. 45ans admis le 12/03/25 pour COVID-19 sévère.\n",
            "  CRP: 125mg/L (N<5) - Fièvre à 39.2°C.\n",
            "  Ttt par corticoïdes IV + azithromycine 500mg/J.\n",
            "  #Attention: allergie à la pénicilline!\n",
            "  \n"
          ]
        }
      ]
    },
    {
      "cell_type": "code",
      "source": [
        "# Nettoyer le texte\n",
        "texte_nettoye = teste_function(texte_medical)\n",
        "print(\"Texte nettoyé :\", texte_nettoye)"
      ],
      "metadata": {
        "colab": {
          "base_uri": "https://localhost:8080/"
        },
        "id": "Rl8hFvz_73Bo",
        "outputId": "fbef9c4a-d08d-431d-8957-01d33a9b97f6"
      },
      "execution_count": 50,
      "outputs": [
        {
          "output_type": "stream",
          "name": "stdout",
          "text": [
            "Texte nettoyé : ['patient', 'admis', 'covid', 'sévère', 'protéine c réactive', 'fièvre', 'traitement', 'glucocorticoides', 'intraveineuse', 'antibiotique macrolide', 'attention', 'allergie', 'pénicilline']\n"
          ]
        }
      ]
    },
    {
      "cell_type": "markdown",
      "source": [
        "### Test 2:"
      ],
      "metadata": {
        "id": "CRiZHTdoKGGg"
      }
    },
    {
      "cell_type": "code",
      "source": [
        "# Génération de 5 tests supplémentaires\n",
        "test_cases = [\n",
        "    \"\"\"\n",
        "    Patient 32 ans admis le 15-04-24 pour pneumonie bilatérale.\n",
        "    Température: 38.5°C, SatO2: 92% en air ambiant.\n",
        "    Prescrit: amoxicilline 1g BID + paracétamol 1g QID.\n",
        "    \"\"\",\n",
        "    \"\"\"\n",
        "    Femme 28 ans, grossesse 32SA, hospitalisée pour pyélonéphrite.\n",
        "    Traitement: ceftriaxone IV 1g/J + gentamicine 240mg/J.\n",
        "    Allergie: pénicilline (rash cutané).\n",
        "    \"\"\",\n",
        "    \"\"\"\n",
        "    Homme 60 ans, diabétique, ++polydipsie et polyurie.\n",
        "    Glycémie capillaire: 3.2 mmol/L (hypoglicémie).\n",
        "    Ttt: glucosé 30% 100ml IV.\n",
        "    \"\"\",\n",
        "    \"\"\"\n",
        "    Enfant 5 ans, fébrile à 40.1°C depuis 2 jours.\n",
        "    Diagnostic: grippe A confirmée par TDM.\n",
        "    Traitement: oseltamivir 45mg BID.\n",
        "    \"\"\",\n",
        "    \"\"\"\n",
        "    Pat. 70 ans, ATCD d'HTA, consulté pour ++dyspnée.\n",
        "    ECG: FA rapide à 130/min. Traitement: digoxine 0.25mg/J.\n",
        "    \"\"\"\n",
        "]\n",
        "\n",
        "for i, test in enumerate(test_cases, 1):\n",
        "    print(f\"\\nTest {i}:\")\n",
        "    print(\"Texte original:\", test)\n",
        "    result = teste_function(test)\n",
        "    print(\"Résultat:\", result)"
      ],
      "metadata": {
        "colab": {
          "base_uri": "https://localhost:8080/"
        },
        "id": "uu3_upfXKLoS",
        "outputId": "25520e47-47f7-4267-9639-36cadc61cce5"
      },
      "execution_count": 51,
      "outputs": [
        {
          "output_type": "stream",
          "name": "stdout",
          "text": [
            "\n",
            "Test 1:\n",
            "Texte original: \n",
            "    Patient 32 ans admis le 15-04-24 pour pneumonie bilatérale.\n",
            "    Température: 38.5°C, SatO2: 92% en air ambiant.\n",
            "    Prescrit: amoxicilline 1g BID + paracétamol 1g QID.\n",
            "    \n",
            "Résultat: ['patient', 'admis', 'pneumonie', 'bilatérale', 'température', 'sato', 'air', 'ambiant', 'prescrit', 'amoxicilline', 'bis in die', 'paracétamol', 'qid']\n",
            "\n",
            "Test 2:\n",
            "Texte original: \n",
            "    Femme 28 ans, grossesse 32SA, hospitalisée pour pyélonéphrite.\n",
            "    Traitement: ceftriaxone IV 1g/J + gentamicine 240mg/J.\n",
            "    Allergie: pénicilline (rash cutané).\n",
            "    \n",
            "Résultat: ['femme', 'grossesse', 'hospitalisée', 'pyélonéphrite', 'traitement', 'ceftriaxone', 'intraveineuse', 'gentamicine', 'allergie', 'pénicilline', 'rash', 'cutané']\n",
            "\n",
            "Test 3:\n",
            "Texte original: \n",
            "    Homme 60 ans, diabétique, ++polydipsie et polyurie.\n",
            "    Glycémie capillaire: 3.2 mmol/L (hypoglicémie).\n",
            "    Ttt: glucosé 30% 100ml IV.\n",
            "    \n",
            "Résultat: ['homme', 'diabétique', 'polydipsie', 'polyurie', 'glycémie', 'capillaire', 'hypoglicémie', 'traitement', 'glucosé', 'intraveineuse']\n",
            "\n",
            "Test 4:\n",
            "Texte original: \n",
            "    Enfant 5 ans, fébrile à 40.1°C depuis 2 jours.\n",
            "    Diagnostic: grippe A confirmée par TDM.\n",
            "    Traitement: oseltamivir 45mg BID.\n",
            "    \n",
            "Résultat: ['enfant', 'hyperthermique', 'depuis', 'diagnostic', 'grippe', 'a', 'confirmée', 'tomodensitométrie', 'traitement', 'oseltamivir', 'bis in die']\n",
            "\n",
            "Test 5:\n",
            "Texte original: \n",
            "    Pat. 70 ans, ATCD d'HTA, consulté pour ++dyspnée.\n",
            "    ECG: FA rapide à 130/min. Traitement: digoxine 0.25mg/J.\n",
            "    \n",
            "Résultat: ['patient', 'atcd', 'dhta', 'consulté', 'dyspnée', 'ecg', 'fa', 'rapide', 'traitement', 'digoxine']\n"
          ]
        }
      ]
    }
  ]
}